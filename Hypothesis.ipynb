{
 "cells": [
  {
   "cell_type": "code",
   "execution_count": 80,
   "metadata": {},
   "outputs": [],
   "source": [
    "import pandas as pd\n",
    "import seaborn as sns\n",
    "import numpy as np\n",
    "import matplotlib.pyplot as plt\n",
    "import scipy "
   ]
  },
  {
   "cell_type": "code",
   "execution_count": 3,
   "metadata": {},
   "outputs": [],
   "source": [
    "# Loading the Air Quality Data\n",
    "air_quality = pd.read_csv('data/air_quality_Nov2017.csv')"
   ]
  },
  {
   "cell_type": "code",
   "execution_count": 4,
   "metadata": {},
   "outputs": [
    {
     "data": {
      "text/html": [
       "<div>\n",
       "<style scoped>\n",
       "    .dataframe tbody tr th:only-of-type {\n",
       "        vertical-align: middle;\n",
       "    }\n",
       "\n",
       "    .dataframe tbody tr th {\n",
       "        vertical-align: top;\n",
       "    }\n",
       "\n",
       "    .dataframe thead th {\n",
       "        text-align: right;\n",
       "    }\n",
       "</style>\n",
       "<table border=\"1\" class=\"dataframe\">\n",
       "  <thead>\n",
       "    <tr style=\"text-align: right;\">\n",
       "      <th></th>\n",
       "      <th>Station</th>\n",
       "      <th>Air Quality</th>\n",
       "      <th>Longitude</th>\n",
       "      <th>Latitude</th>\n",
       "      <th>O3 Hour</th>\n",
       "      <th>O3 Quality</th>\n",
       "      <th>O3 Value</th>\n",
       "      <th>NO2 Hour</th>\n",
       "      <th>NO2 Quality</th>\n",
       "      <th>NO2 Value</th>\n",
       "      <th>PM10 Hour</th>\n",
       "      <th>PM10 Quality</th>\n",
       "      <th>PM10 Value</th>\n",
       "      <th>Generated</th>\n",
       "      <th>Date Time</th>\n",
       "    </tr>\n",
       "  </thead>\n",
       "  <tbody>\n",
       "    <tr>\n",
       "      <th>0</th>\n",
       "      <td>Barcelona - Sants</td>\n",
       "      <td>Good</td>\n",
       "      <td>2.1331</td>\n",
       "      <td>41.3788</td>\n",
       "      <td>NaN</td>\n",
       "      <td>NaN</td>\n",
       "      <td>NaN</td>\n",
       "      <td>0h</td>\n",
       "      <td>Good</td>\n",
       "      <td>84.0</td>\n",
       "      <td>NaN</td>\n",
       "      <td>NaN</td>\n",
       "      <td>NaN</td>\n",
       "      <td>01/11/2018 0:00</td>\n",
       "      <td>1541027104</td>\n",
       "    </tr>\n",
       "    <tr>\n",
       "      <th>1</th>\n",
       "      <td>Barcelona - Eixample</td>\n",
       "      <td>Moderate</td>\n",
       "      <td>2.1538</td>\n",
       "      <td>41.3853</td>\n",
       "      <td>0h</td>\n",
       "      <td>Good</td>\n",
       "      <td>1.0</td>\n",
       "      <td>0h</td>\n",
       "      <td>Moderate</td>\n",
       "      <td>113.0</td>\n",
       "      <td>0h</td>\n",
       "      <td>Good</td>\n",
       "      <td>36.0</td>\n",
       "      <td>01/11/2018 0:00</td>\n",
       "      <td>1541027104</td>\n",
       "    </tr>\n",
       "    <tr>\n",
       "      <th>2</th>\n",
       "      <td>Barcelona - Gràcia</td>\n",
       "      <td>Good</td>\n",
       "      <td>2.1534</td>\n",
       "      <td>41.3987</td>\n",
       "      <td>0h</td>\n",
       "      <td>Good</td>\n",
       "      <td>10.0</td>\n",
       "      <td>0h</td>\n",
       "      <td>Good</td>\n",
       "      <td>73.0</td>\n",
       "      <td>NaN</td>\n",
       "      <td>NaN</td>\n",
       "      <td>NaN</td>\n",
       "      <td>01/11/2018 0:00</td>\n",
       "      <td>1541027104</td>\n",
       "    </tr>\n",
       "    <tr>\n",
       "      <th>3</th>\n",
       "      <td>Barcelona - Ciutadella</td>\n",
       "      <td>Good</td>\n",
       "      <td>2.1874</td>\n",
       "      <td>41.3864</td>\n",
       "      <td>0h</td>\n",
       "      <td>Good</td>\n",
       "      <td>2.0</td>\n",
       "      <td>0h</td>\n",
       "      <td>Good</td>\n",
       "      <td>86.0</td>\n",
       "      <td>NaN</td>\n",
       "      <td>NaN</td>\n",
       "      <td>NaN</td>\n",
       "      <td>01/11/2018 0:00</td>\n",
       "      <td>1541027104</td>\n",
       "    </tr>\n",
       "    <tr>\n",
       "      <th>4</th>\n",
       "      <td>Barcelona - Vall Hebron</td>\n",
       "      <td>Good</td>\n",
       "      <td>2.1480</td>\n",
       "      <td>41.4261</td>\n",
       "      <td>0h</td>\n",
       "      <td>Good</td>\n",
       "      <td>7.0</td>\n",
       "      <td>0h</td>\n",
       "      <td>Good</td>\n",
       "      <td>69.0</td>\n",
       "      <td>NaN</td>\n",
       "      <td>NaN</td>\n",
       "      <td>NaN</td>\n",
       "      <td>01/11/2018 0:00</td>\n",
       "      <td>1541027104</td>\n",
       "    </tr>\n",
       "  </tbody>\n",
       "</table>\n",
       "</div>"
      ],
      "text/plain": [
       "                   Station Air Quality  Longitude  Latitude O3 Hour  \\\n",
       "0        Barcelona - Sants        Good     2.1331   41.3788     NaN   \n",
       "1     Barcelona - Eixample    Moderate     2.1538   41.3853      0h   \n",
       "2       Barcelona - Gràcia        Good     2.1534   41.3987      0h   \n",
       "3   Barcelona - Ciutadella        Good     2.1874   41.3864      0h   \n",
       "4  Barcelona - Vall Hebron        Good     2.1480   41.4261      0h   \n",
       "\n",
       "  O3 Quality  O3 Value NO2 Hour NO2 Quality  NO2 Value PM10 Hour PM10 Quality  \\\n",
       "0        NaN       NaN       0h        Good       84.0       NaN          NaN   \n",
       "1       Good       1.0       0h    Moderate      113.0        0h         Good   \n",
       "2       Good      10.0       0h        Good       73.0       NaN          NaN   \n",
       "3       Good       2.0       0h        Good       86.0       NaN          NaN   \n",
       "4       Good       7.0       0h        Good       69.0       NaN          NaN   \n",
       "\n",
       "   PM10 Value        Generated   Date Time  \n",
       "0         NaN  01/11/2018 0:00  1541027104  \n",
       "1        36.0  01/11/2018 0:00  1541027104  \n",
       "2         NaN  01/11/2018 0:00  1541027104  \n",
       "3         NaN  01/11/2018 0:00  1541027104  \n",
       "4         NaN  01/11/2018 0:00  1541027104  "
      ]
     },
     "execution_count": 4,
     "metadata": {},
     "output_type": "execute_result"
    }
   ],
   "source": [
    "air_quality.head()"
   ]
  },
  {
   "cell_type": "code",
   "execution_count": 5,
   "metadata": {},
   "outputs": [
    {
     "name": "stdout",
     "output_type": "stream",
     "text": [
      "<class 'pandas.core.frame.DataFrame'>\n",
      "RangeIndex: 5744 entries, 0 to 5743\n",
      "Data columns (total 15 columns):\n",
      " #   Column        Non-Null Count  Dtype  \n",
      "---  ------        --------------  -----  \n",
      " 0   Station       5744 non-null   object \n",
      " 1   Air Quality   5744 non-null   object \n",
      " 2   Longitude     5744 non-null   float64\n",
      " 3   Latitude      5744 non-null   float64\n",
      " 4   O3 Hour       4268 non-null   object \n",
      " 5   O3 Quality    4268 non-null   object \n",
      " 6   O3 Value      4101 non-null   float64\n",
      " 7   NO2 Hour      5689 non-null   object \n",
      " 8   NO2 Quality   5689 non-null   object \n",
      " 9   NO2 Value     5460 non-null   float64\n",
      " 10  PM10 Hour     3722 non-null   object \n",
      " 11  PM10 Quality  3722 non-null   object \n",
      " 12  PM10 Value    3647 non-null   float64\n",
      " 13  Generated     5744 non-null   object \n",
      " 14  Date Time     5744 non-null   int64  \n",
      "dtypes: float64(5), int64(1), object(9)\n",
      "memory usage: 673.2+ KB\n"
     ]
    }
   ],
   "source": [
    "air_quality.info()"
   ]
  },
  {
   "cell_type": "code",
   "execution_count": 7,
   "metadata": {},
   "outputs": [],
   "source": [
    "aq = air_quality['Air Quality'].value_counts()"
   ]
  },
  {
   "cell_type": "code",
   "execution_count": 10,
   "metadata": {},
   "outputs": [],
   "source": [
    "# Hypothesis 1, the air quality depends on the O3 value\n",
    "#air_quality_good = air_quality[air_quality['Air Quality'] == 'Good']\n",
    "#air_quality_modret = air_quality[air_quality['Air Quality'] == 'Moderate']\n",
    "air_quality_gm = air_quality[(air_quality['Air Quality'] == 'Moderate') | (air_quality['Air Quality'] == 'Good')]\n"
   ]
  },
  {
   "cell_type": "code",
   "execution_count": 13,
   "metadata": {},
   "outputs": [],
   "source": [
    "air_quality_o3 = air_quality_gm.loc[:, ['Air Quality','O3 Value']]\n",
    "air_quality_o3 = air_quality_o3.dropna()"
   ]
  },
  {
   "cell_type": "code",
   "execution_count": 55,
   "metadata": {},
   "outputs": [],
   "source": [
    "Good_Air_Quality = air_quality_o3[(air_quality_o3['O3 Value'] >= 1) & (air_quality_o3['Air Quality'] == 'Good')]\n",
    "Moderate_Air_Quality = air_quality_o3[(air_quality_o3['O3 Value'] >= 1) & (air_quality_o3['Air Quality'] == 'Moderate')]"
   ]
  },
  {
   "cell_type": "code",
   "execution_count": 56,
   "metadata": {},
   "outputs": [],
   "source": [
    "air_quality_o3[\"Good Air Quality\"] = Good_Air_Quality['O3 Value']\n",
    "air_quality_o3[\"Moderate Air Quality\"] = Moderate_Air_Quality['O3 Value']"
   ]
  },
  {
   "cell_type": "code",
   "execution_count": 76,
   "metadata": {},
   "outputs": [
    {
     "data": {
      "text/plain": [
       "Text(0, 0.5, 'O3 Value')"
      ]
     },
     "execution_count": 76,
     "metadata": {},
     "output_type": "execute_result"
    },
    {
     "data": {
      "image/png": "[encoded data removed]",
      "text/plain": [
       "<Figure size 432x288 with 1 Axes>"
      ]
     },
     "metadata": {
      "needs_background": "light"
     },
     "output_type": "display_data"
    }
   ],
   "source": [
    "air_quality_o3.loc[:, ['Good Air Quality', 'Moderate Air Quality']].boxplot()\n",
    "plt.title('Air Quality versus O3 Value')\n",
    "plt.ylabel('O3 Value')"
   ]
  },
  {
   "cell_type": "code",
   "execution_count": 81,
   "metadata": {},
   "outputs": [
    {
     "data": {
      "text/html": [
       "<div>\n",
       "<style scoped>\n",
       "    .dataframe tbody tr th:only-of-type {\n",
       "        vertical-align: middle;\n",
       "    }\n",
       "\n",
       "    .dataframe tbody tr th {\n",
       "        vertical-align: top;\n",
       "    }\n",
       "\n",
       "    .dataframe thead th {\n",
       "        text-align: right;\n",
       "    }\n",
       "</style>\n",
       "<table border=\"1\" class=\"dataframe\">\n",
       "  <thead>\n",
       "    <tr style=\"text-align: right;\">\n",
       "      <th></th>\n",
       "      <th>O3 Value</th>\n",
       "      <th>Good Air Quality</th>\n",
       "      <th>Moderate Air Quality</th>\n",
       "    </tr>\n",
       "  </thead>\n",
       "  <tbody>\n",
       "    <tr>\n",
       "      <th>count</th>\n",
       "      <td>4101.000000</td>\n",
       "      <td>3996.000000</td>\n",
       "      <td>105.000000</td>\n",
       "    </tr>\n",
       "    <tr>\n",
       "      <th>mean</th>\n",
       "      <td>34.082907</td>\n",
       "      <td>34.734735</td>\n",
       "      <td>9.276190</td>\n",
       "    </tr>\n",
       "    <tr>\n",
       "      <th>std</th>\n",
       "      <td>22.960687</td>\n",
       "      <td>22.831980</td>\n",
       "      <td>11.002181</td>\n",
       "    </tr>\n",
       "    <tr>\n",
       "      <th>min</th>\n",
       "      <td>1.000000</td>\n",
       "      <td>1.000000</td>\n",
       "      <td>1.000000</td>\n",
       "    </tr>\n",
       "    <tr>\n",
       "      <th>25%</th>\n",
       "      <td>14.000000</td>\n",
       "      <td>15.000000</td>\n",
       "      <td>2.000000</td>\n",
       "    </tr>\n",
       "    <tr>\n",
       "      <th>50%</th>\n",
       "      <td>34.000000</td>\n",
       "      <td>34.000000</td>\n",
       "      <td>3.000000</td>\n",
       "    </tr>\n",
       "    <tr>\n",
       "      <th>75%</th>\n",
       "      <td>52.000000</td>\n",
       "      <td>53.000000</td>\n",
       "      <td>13.000000</td>\n",
       "    </tr>\n",
       "    <tr>\n",
       "      <th>max</th>\n",
       "      <td>100.000000</td>\n",
       "      <td>100.000000</td>\n",
       "      <td>44.000000</td>\n",
       "    </tr>\n",
       "  </tbody>\n",
       "</table>\n",
       "</div>"
      ],
      "text/plain": [
       "          O3 Value  Good Air Quality  Moderate Air Quality\n",
       "count  4101.000000       3996.000000            105.000000\n",
       "mean     34.082907         34.734735              9.276190\n",
       "std      22.960687         22.831980             11.002181\n",
       "min       1.000000          1.000000              1.000000\n",
       "25%      14.000000         15.000000              2.000000\n",
       "50%      34.000000         34.000000              3.000000\n",
       "75%      52.000000         53.000000             13.000000\n",
       "max     100.000000        100.000000             44.000000"
      ]
     },
     "execution_count": 81,
     "metadata": {},
     "output_type": "execute_result"
    }
   ],
   "source": [
    "air_quality_o3.describe()"
   ]
  },
  {
   "cell_type": "code",
   "execution_count": 86,
   "metadata": {},
   "outputs": [
    {
     "data": {
      "text/plain": [
       "Ttest_indResult(statistic=22.473494753735945, pvalue=2.0910803909920662e-46)"
      ]
     },
     "execution_count": 86,
     "metadata": {},
     "output_type": "execute_result"
    }
   ],
   "source": [
    "# The figure above showed that there are two categories \n",
    "# Hence, two way t-test is the approprate way to do the hypothesis testing\n",
    "from scipy.stats import ttest_ind\n",
    "scipy.stats.ttest_ind(gaq.dropna(), baq.dropna(), equal_var=False)\n",
    "\n",
    "# Results in the rejection of null hypothesis"
   ]
  },
  {
   "cell_type": "code",
   "execution_count": 99,
   "metadata": {},
   "outputs": [
    {
     "data": {
      "text/plain": [
       "Ttest_indResult(statistic=array([22.47349475]), pvalue=array([2.09108039e-46]))"
      ]
     },
     "execution_count": 99,
     "metadata": {},
     "output_type": "execute_result"
    }
   ],
   "source": [
    "scipy.stats.ttest_ind(air_quality_o3.loc[:,['Good Air Quality']].dropna(), air_quality_o3.loc[:,['Moderate Air Quality']].dropna(), equal_var=False)"
   ]
  },
  {
   "cell_type": "code",
   "execution_count": 21,
   "metadata": {},
   "outputs": [],
   "source": [
    "aqo3good = air_quality_o3[air_quality_o3['Air Quality'] == 'Good']\n",
    "aqo3mod = air_quality_o3[air_quality_o3['Air Quality'] == 'Moderate']"
   ]
  },
  {
   "cell_type": "code",
   "execution_count": 87,
   "metadata": {},
   "outputs": [],
   "source": [
    "air_quality_no2 = air_quality_gm.loc[:, ['Air Quality','NO2 Value']]\n",
    "air_quality_no2 = air_quality_no2.dropna()"
   ]
  },
  {
   "cell_type": "code",
   "execution_count": 88,
   "metadata": {},
   "outputs": [
    {
     "data": {
      "text/html": [
       "<div>\n",
       "<style scoped>\n",
       "    .dataframe tbody tr th:only-of-type {\n",
       "        vertical-align: middle;\n",
       "    }\n",
       "\n",
       "    .dataframe tbody tr th {\n",
       "        vertical-align: top;\n",
       "    }\n",
       "\n",
       "    .dataframe thead th {\n",
       "        text-align: right;\n",
       "    }\n",
       "</style>\n",
       "<table border=\"1\" class=\"dataframe\">\n",
       "  <thead>\n",
       "    <tr style=\"text-align: right;\">\n",
       "      <th></th>\n",
       "      <th>Air Quality</th>\n",
       "      <th>NO2 Value</th>\n",
       "    </tr>\n",
       "  </thead>\n",
       "  <tbody>\n",
       "    <tr>\n",
       "      <th>0</th>\n",
       "      <td>Good</td>\n",
       "      <td>84.0</td>\n",
       "    </tr>\n",
       "    <tr>\n",
       "      <th>1</th>\n",
       "      <td>Moderate</td>\n",
       "      <td>113.0</td>\n",
       "    </tr>\n",
       "    <tr>\n",
       "      <th>2</th>\n",
       "      <td>Good</td>\n",
       "      <td>73.0</td>\n",
       "    </tr>\n",
       "    <tr>\n",
       "      <th>3</th>\n",
       "      <td>Good</td>\n",
       "      <td>86.0</td>\n",
       "    </tr>\n",
       "    <tr>\n",
       "      <th>4</th>\n",
       "      <td>Good</td>\n",
       "      <td>69.0</td>\n",
       "    </tr>\n",
       "  </tbody>\n",
       "</table>\n",
       "</div>"
      ],
      "text/plain": [
       "  Air Quality  NO2 Value\n",
       "0        Good       84.0\n",
       "1    Moderate      113.0\n",
       "2        Good       73.0\n",
       "3        Good       86.0\n",
       "4        Good       69.0"
      ]
     },
     "execution_count": 88,
     "metadata": {},
     "output_type": "execute_result"
    }
   ],
   "source": [
    "air_quality_no2.head()"
   ]
  },
  {
   "cell_type": "code",
   "execution_count": 90,
   "metadata": {},
   "outputs": [],
   "source": [
    "no2gaq = air_quality_no2[(air_quality_no2['NO2 Value'] >= 1) & (air_quality_no2['Air Quality'] == 'Good')]\n",
    "no2maq = air_quality_no2[(air_quality_no2['NO2 Value'] >= 1) & (air_quality_no2['Air Quality'] == 'Moderate')]"
   ]
  },
  {
   "cell_type": "code",
   "execution_count": 91,
   "metadata": {},
   "outputs": [],
   "source": [
    "air_quality_no2[\"Good Air Quality\"] = no2gaq['NO2 Value']\n",
    "air_quality_no2[\"Moderate Air Quality\"] = no2maq['NO2 Value']"
   ]
  },
  {
   "cell_type": "code",
   "execution_count": 94,
   "metadata": {},
   "outputs": [
    {
     "data": {
      "text/plain": [
       "Text(0, 0.5, 'NO2 Value')"
      ]
     },
     "execution_count": 94,
     "metadata": {},
     "output_type": "execute_result"
    },
    {
     "data": {
      "image/png": "[encoded data removed]",
      "text/plain": [
       "<Figure size 432x288 with 1 Axes>"
      ]
     },
     "metadata": {
      "needs_background": "light"
     },
     "output_type": "display_data"
    }
   ],
   "source": [
    "air_quality_no2.loc[:, ['Good Air Quality', 'Moderate Air Quality']].boxplot()\n",
    "plt.title('Air Quality versus NO2 Value')\n",
    "plt.xlabel('Air Quality')\n",
    "plt.ylabel('NO2 Value')"
   ]
  },
  {
   "cell_type": "code",
   "execution_count": 98,
   "metadata": {},
   "outputs": [
    {
     "data": {
      "text/plain": [
       "Ttest_indResult(statistic=array([-17.75252356]), pvalue=array([1.36639203e-36]))"
      ]
     },
     "execution_count": 98,
     "metadata": {},
     "output_type": "execute_result"
    }
   ],
   "source": [
    "scipy.stats.ttest_ind(air_quality_no2.loc[:,['Good Air Quality']].dropna(), air_quality_no2.loc[:,['Moderate Air Quality']].dropna(), equal_var=False)"
   ]
  },
  {
   "cell_type": "code",
   "execution_count": 103,
   "metadata": {},
   "outputs": [],
   "source": [
    "air_quality_pm = air_quality_gm.loc[:, ['Air Quality','PM10 Value']]\n",
    "air_quality_pm = air_quality_pm.dropna()"
   ]
  },
  {
   "cell_type": "code",
   "execution_count": 104,
   "metadata": {},
   "outputs": [
    {
     "data": {
      "text/html": [
       "<div>\n",
       "<style scoped>\n",
       "    .dataframe tbody tr th:only-of-type {\n",
       "        vertical-align: middle;\n",
       "    }\n",
       "\n",
       "    .dataframe tbody tr th {\n",
       "        vertical-align: top;\n",
       "    }\n",
       "\n",
       "    .dataframe thead th {\n",
       "        text-align: right;\n",
       "    }\n",
       "</style>\n",
       "<table border=\"1\" class=\"dataframe\">\n",
       "  <thead>\n",
       "    <tr style=\"text-align: right;\">\n",
       "      <th></th>\n",
       "      <th>PM10 Value</th>\n",
       "    </tr>\n",
       "  </thead>\n",
       "  <tbody>\n",
       "    <tr>\n",
       "      <th>count</th>\n",
       "      <td>3647.000000</td>\n",
       "    </tr>\n",
       "    <tr>\n",
       "      <th>mean</th>\n",
       "      <td>16.590074</td>\n",
       "    </tr>\n",
       "    <tr>\n",
       "      <th>std</th>\n",
       "      <td>8.065424</td>\n",
       "    </tr>\n",
       "    <tr>\n",
       "      <th>min</th>\n",
       "      <td>2.000000</td>\n",
       "    </tr>\n",
       "    <tr>\n",
       "      <th>25%</th>\n",
       "      <td>10.000000</td>\n",
       "    </tr>\n",
       "    <tr>\n",
       "      <th>50%</th>\n",
       "      <td>15.000000</td>\n",
       "    </tr>\n",
       "    <tr>\n",
       "      <th>75%</th>\n",
       "      <td>22.000000</td>\n",
       "    </tr>\n",
       "    <tr>\n",
       "      <th>max</th>\n",
       "      <td>44.000000</td>\n",
       "    </tr>\n",
       "  </tbody>\n",
       "</table>\n",
       "</div>"
      ],
      "text/plain": [
       "        PM10 Value\n",
       "count  3647.000000\n",
       "mean     16.590074\n",
       "std       8.065424\n",
       "min       2.000000\n",
       "25%      10.000000\n",
       "50%      15.000000\n",
       "75%      22.000000\n",
       "max      44.000000"
      ]
     },
     "execution_count": 104,
     "metadata": {},
     "output_type": "execute_result"
    }
   ],
   "source": [
    "air_quality_pm.describe()"
   ]
  },
  {
   "cell_type": "code",
   "execution_count": 127,
   "metadata": {},
   "outputs": [],
   "source": [
    "pm10gaq = air_quality_pm[(air_quality_pm['PM10 Value'] >= 1) & (air_quality_pm['Air Quality'] == 'Good')]\n",
    "pm10maq = air_quality_pm[(air_quality_pm['PM10 Value'] >= 1) & (air_quality_pm['Air Quality'] == 'Moderate')]\n",
    "air_quality_pm[\"PM10 Good Air Quality\"] = pm10gaq['PM10 Value']\n",
    "air_quality_pm[\"PM10 Moderate Air Quality\"] = pm10maq['PM10 Value']"
   ]
  },
  {
   "cell_type": "code",
   "execution_count": 109,
   "metadata": {},
   "outputs": [
    {
     "data": {
      "text/html": [
       "<div>\n",
       "<style scoped>\n",
       "    .dataframe tbody tr th:only-of-type {\n",
       "        vertical-align: middle;\n",
       "    }\n",
       "\n",
       "    .dataframe tbody tr th {\n",
       "        vertical-align: top;\n",
       "    }\n",
       "\n",
       "    .dataframe thead th {\n",
       "        text-align: right;\n",
       "    }\n",
       "</style>\n",
       "<table border=\"1\" class=\"dataframe\">\n",
       "  <thead>\n",
       "    <tr style=\"text-align: right;\">\n",
       "      <th></th>\n",
       "      <th>PM10 Value</th>\n",
       "      <th>Good Air Quality</th>\n",
       "      <th>Moderate Air Quality</th>\n",
       "    </tr>\n",
       "  </thead>\n",
       "  <tbody>\n",
       "    <tr>\n",
       "      <th>count</th>\n",
       "      <td>3647.000000</td>\n",
       "      <td>3524.000000</td>\n",
       "      <td>123.000000</td>\n",
       "    </tr>\n",
       "    <tr>\n",
       "      <th>mean</th>\n",
       "      <td>16.590074</td>\n",
       "      <td>15.994325</td>\n",
       "      <td>33.658537</td>\n",
       "    </tr>\n",
       "    <tr>\n",
       "      <th>std</th>\n",
       "      <td>8.065424</td>\n",
       "      <td>7.357500</td>\n",
       "      <td>8.769198</td>\n",
       "    </tr>\n",
       "    <tr>\n",
       "      <th>min</th>\n",
       "      <td>2.000000</td>\n",
       "      <td>2.000000</td>\n",
       "      <td>9.000000</td>\n",
       "    </tr>\n",
       "    <tr>\n",
       "      <th>25%</th>\n",
       "      <td>10.000000</td>\n",
       "      <td>10.000000</td>\n",
       "      <td>28.000000</td>\n",
       "    </tr>\n",
       "    <tr>\n",
       "      <th>50%</th>\n",
       "      <td>15.000000</td>\n",
       "      <td>15.000000</td>\n",
       "      <td>37.000000</td>\n",
       "    </tr>\n",
       "    <tr>\n",
       "      <th>75%</th>\n",
       "      <td>22.000000</td>\n",
       "      <td>21.000000</td>\n",
       "      <td>39.000000</td>\n",
       "    </tr>\n",
       "    <tr>\n",
       "      <th>max</th>\n",
       "      <td>44.000000</td>\n",
       "      <td>36.000000</td>\n",
       "      <td>44.000000</td>\n",
       "    </tr>\n",
       "  </tbody>\n",
       "</table>\n",
       "</div>"
      ],
      "text/plain": [
       "        PM10 Value  Good Air Quality  Moderate Air Quality\n",
       "count  3647.000000       3524.000000            123.000000\n",
       "mean     16.590074         15.994325             33.658537\n",
       "std       8.065424          7.357500              8.769198\n",
       "min       2.000000          2.000000              9.000000\n",
       "25%      10.000000         10.000000             28.000000\n",
       "50%      15.000000         15.000000             37.000000\n",
       "75%      22.000000         21.000000             39.000000\n",
       "max      44.000000         36.000000             44.000000"
      ]
     },
     "execution_count": 109,
     "metadata": {},
     "output_type": "execute_result"
    }
   ],
   "source": [
    "air_quality_pm.describe()"
   ]
  },
  {
   "cell_type": "code",
   "execution_count": 107,
   "metadata": {},
   "outputs": [
    {
     "data": {
      "text/plain": [
       "Text(0, 0.5, 'PM10 Value')"
      ]
     },
     "execution_count": 107,
     "metadata": {},
     "output_type": "execute_result"
    },
    {
     "data": {
      "image/png": "[encoded data removed]",
      "text/plain": [
       "<Figure size 432x288 with 1 Axes>"
      ]
     },
     "metadata": {
      "needs_background": "light"
     },
     "output_type": "display_data"
    }
   ],
   "source": [
    "air_quality_pm.loc[:, ['Good Air Quality', 'Moderate Air Quality']].boxplot()\n",
    "plt.title('Air Quality versus PM10 Value')\n",
    "plt.xlabel('Air Quality')\n",
    "plt.ylabel('PM10 Value')"
   ]
  },
  {
   "cell_type": "code",
   "execution_count": 108,
   "metadata": {},
   "outputs": [
    {
     "data": {
      "text/plain": [
       "Ttest_indResult(statistic=array([-22.07069716]), pvalue=array([1.79566094e-45]))"
      ]
     },
     "execution_count": 108,
     "metadata": {},
     "output_type": "execute_result"
    }
   ],
   "source": [
    "scipy.stats.ttest_ind(air_quality_pm.loc[:,['Good Air Quality']].dropna(), air_quality_pm.loc[:,['Moderate Air Quality']].dropna(), equal_var=False)"
   ]
  },
  {
   "cell_type": "code",
   "execution_count": 111,
   "metadata": {},
   "outputs": [],
   "source": [
    "reduced = air_quality_pm.loc[:,['Good Air Quality']].dropna().sample(100)\n",
    "reduced2 = air_quality_pm.loc[:,['Moderate Air Quality']].dropna().sample(100)"
   ]
  },
  {
   "cell_type": "code",
   "execution_count": 113,
   "metadata": {},
   "outputs": [
    {
     "data": {
      "text/plain": [
       "Ttest_indResult(statistic=array([-16.05547322]), pvalue=array([1.06760599e-37]))"
      ]
     },
     "execution_count": 113,
     "metadata": {},
     "output_type": "execute_result"
    }
   ],
   "source": [
    "scipy.stats.ttest_ind(reduced, reduced2)"
   ]
  },
  {
   "cell_type": "code",
   "execution_count": 119,
   "metadata": {},
   "outputs": [
    {
     "data": {
      "text/html": [
       "<div>\n",
       "<style scoped>\n",
       "    .dataframe tbody tr th:only-of-type {\n",
       "        vertical-align: middle;\n",
       "    }\n",
       "\n",
       "    .dataframe tbody tr th {\n",
       "        vertical-align: top;\n",
       "    }\n",
       "\n",
       "    .dataframe thead th {\n",
       "        text-align: right;\n",
       "    }\n",
       "</style>\n",
       "<table border=\"1\" class=\"dataframe\">\n",
       "  <thead>\n",
       "    <tr style=\"text-align: right;\">\n",
       "      <th></th>\n",
       "      <th>O3 Good Value</th>\n",
       "      <th>O3 Moderate Value</th>\n",
       "      <th>NO2 Good Value</th>\n",
       "      <th>NO2 Moderate Value</th>\n",
       "      <th>PM10 Good Value</th>\n",
       "      <th>PM10 Moderate Value</th>\n",
       "    </tr>\n",
       "  </thead>\n",
       "  <tbody>\n",
       "    <tr>\n",
       "      <th>2</th>\n",
       "      <td>10.0</td>\n",
       "      <td>NaN</td>\n",
       "      <td>73.0</td>\n",
       "      <td>NaN</td>\n",
       "      <td>NaN</td>\n",
       "      <td>NaN</td>\n",
       "    </tr>\n",
       "    <tr>\n",
       "      <th>3</th>\n",
       "      <td>2.0</td>\n",
       "      <td>NaN</td>\n",
       "      <td>86.0</td>\n",
       "      <td>NaN</td>\n",
       "      <td>NaN</td>\n",
       "      <td>NaN</td>\n",
       "    </tr>\n",
       "    <tr>\n",
       "      <th>4</th>\n",
       "      <td>7.0</td>\n",
       "      <td>NaN</td>\n",
       "      <td>69.0</td>\n",
       "      <td>NaN</td>\n",
       "      <td>NaN</td>\n",
       "      <td>NaN</td>\n",
       "    </tr>\n",
       "    <tr>\n",
       "      <th>5</th>\n",
       "      <td>11.0</td>\n",
       "      <td>NaN</td>\n",
       "      <td>57.0</td>\n",
       "      <td>NaN</td>\n",
       "      <td>23.0</td>\n",
       "      <td>NaN</td>\n",
       "    </tr>\n",
       "    <tr>\n",
       "      <th>7</th>\n",
       "      <td>58.0</td>\n",
       "      <td>NaN</td>\n",
       "      <td>3.0</td>\n",
       "      <td>NaN</td>\n",
       "      <td>25.0</td>\n",
       "      <td>NaN</td>\n",
       "    </tr>\n",
       "    <tr>\n",
       "      <th>...</th>\n",
       "      <td>...</td>\n",
       "      <td>...</td>\n",
       "      <td>...</td>\n",
       "      <td>...</td>\n",
       "      <td>...</td>\n",
       "      <td>...</td>\n",
       "    </tr>\n",
       "    <tr>\n",
       "      <th>5738</th>\n",
       "      <td>8.0</td>\n",
       "      <td>NaN</td>\n",
       "      <td>65.0</td>\n",
       "      <td>NaN</td>\n",
       "      <td>22.0</td>\n",
       "      <td>NaN</td>\n",
       "    </tr>\n",
       "    <tr>\n",
       "      <th>5739</th>\n",
       "      <td>10.0</td>\n",
       "      <td>NaN</td>\n",
       "      <td>57.0</td>\n",
       "      <td>NaN</td>\n",
       "      <td>NaN</td>\n",
       "      <td>NaN</td>\n",
       "    </tr>\n",
       "    <tr>\n",
       "      <th>5740</th>\n",
       "      <td>32.0</td>\n",
       "      <td>NaN</td>\n",
       "      <td>31.0</td>\n",
       "      <td>NaN</td>\n",
       "      <td>21.0</td>\n",
       "      <td>NaN</td>\n",
       "    </tr>\n",
       "    <tr>\n",
       "      <th>5741</th>\n",
       "      <td>40.0</td>\n",
       "      <td>NaN</td>\n",
       "      <td>20.0</td>\n",
       "      <td>NaN</td>\n",
       "      <td>15.0</td>\n",
       "      <td>NaN</td>\n",
       "    </tr>\n",
       "    <tr>\n",
       "      <th>5743</th>\n",
       "      <td>64.0</td>\n",
       "      <td>NaN</td>\n",
       "      <td>21.0</td>\n",
       "      <td>NaN</td>\n",
       "      <td>12.0</td>\n",
       "      <td>NaN</td>\n",
       "    </tr>\n",
       "  </tbody>\n",
       "</table>\n",
       "<p>3996 rows × 6 columns</p>\n",
       "</div>"
      ],
      "text/plain": [
       "      O3 Good Value  O3 Moderate Value  NO2 Good Value  NO2 Moderate Value  \\\n",
       "2              10.0                NaN            73.0                 NaN   \n",
       "3               2.0                NaN            86.0                 NaN   \n",
       "4               7.0                NaN            69.0                 NaN   \n",
       "5              11.0                NaN            57.0                 NaN   \n",
       "7              58.0                NaN             3.0                 NaN   \n",
       "...             ...                ...             ...                 ...   \n",
       "5738            8.0                NaN            65.0                 NaN   \n",
       "5739           10.0                NaN            57.0                 NaN   \n",
       "5740           32.0                NaN            31.0                 NaN   \n",
       "5741           40.0                NaN            20.0                 NaN   \n",
       "5743           64.0                NaN            21.0                 NaN   \n",
       "\n",
       "      PM10 Good Value  PM10 Moderate Value  \n",
       "2                 NaN                  NaN  \n",
       "3                 NaN                  NaN  \n",
       "4                 NaN                  NaN  \n",
       "5                23.0                  NaN  \n",
       "7                25.0                  NaN  \n",
       "...               ...                  ...  \n",
       "5738             22.0                  NaN  \n",
       "5739              NaN                  NaN  \n",
       "5740             21.0                  NaN  \n",
       "5741             15.0                  NaN  \n",
       "5743             12.0                  NaN  \n",
       "\n",
       "[3996 rows x 6 columns]"
      ]
     },
     "execution_count": 119,
     "metadata": {},
     "output_type": "execute_result"
    }
   ],
   "source": [
    "air_quality_tot = pd.DataFrame()\n",
    "air_quality_tot['O3 Good Value'] = Good_Air_Quality['O3 Value']\n",
    "air_quality_tot['O3 Moderate Value'] = Moderate_Air_Quality['O3 Value']\n",
    "air_quality_tot['NO2 Good Value'] = no2gaq['NO2 Value']\n",
    "air_quality_tot['NO2 Moderate Value'] = no2maq['NO2 Value']\n",
    "air_quality_tot['PM10 Good Value'] = pm10gaq['PM10 Value']\n",
    "air_quality_tot['PM10 Moderate Value'] = pm10maq['PM10 Value']\n",
    "\n",
    "air_quality_tot"
   ]
  },
  {
   "cell_type": "code",
   "execution_count": null,
   "metadata": {},
   "outputs": [],
   "source": []
  }
 ],
 "metadata": {
  "kernelspec": {
   "display_name": "Python 3.10.5 64-bit",
   "language": "python",
   "name": "python3"
  },
  "language_info": {
   "codemirror_mode": {
    "name": "ipython",
    "version": 3
   },
   "file_extension": ".py",
   "mimetype": "text/x-python",
   "name": "python",
   "nbconvert_exporter": "python",
   "pygments_lexer": "ipython3",
   "version": "3.10.5"
  },
  "orig_nbformat": 4,
  "vscode": {
   "interpreter": {
    "hash": "0a348c401f686ac6eedac799f1fc1d06931a377189b613d8ca84ae595c5621b5"
   }
  }
 },
 "nbformat": 4,
 "nbformat_minor": 2
}
